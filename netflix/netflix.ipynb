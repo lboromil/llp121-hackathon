{
 "cells": [
  {
   "cell_type": "markdown",
   "metadata": {},
   "source": [
    "# Netflix Movies and TV Shows"
   ]
  },
  {
   "cell_type": "markdown",
   "metadata": {},
   "source": [
    "## Importing Libraries\n",
    "\n",
    "To use preexisting code, we must `import` it. Otherwise, the code is not visible to our program and we will get complaints about `undefined` variables."
   ]
  },
  {
   "cell_type": "code",
   "execution_count": null,
   "metadata": {},
   "outputs": [],
   "source": [
    "# utility import\n",
    "import os\n",
    "\n",
    "import numpy as np\n",
    "import pandas as pd\n",
    "\n",
    "import matplotlib.pyplot as plt\n",
    "%matplotlib inline\n",
    "\n",
    "import sklearn"
   ]
  },
  {
   "cell_type": "markdown",
   "metadata": {},
   "source": [
    "## About\n",
    "\n",
    "Netflix is one of the most popular media and video streaming platforms. They have over 8000 movies or tv shows available on their platform, as of mid-2021, they have over 200M Subscribers globally. This tabular dataset consists of listings of all the movies and tv shows available on Netflix, along with details such as - cast, directors, ratings, release year, duration, etc.\n",
    "\n",
    "### Attribute Information\n",
    "\n",
    "- **Show ID**: Unique ID for every Movie/TV show\n",
    "- **Type**: Identifier - A Movie or TV Show\n",
    "- **Titles**: Title of the Movie/TV Show\n",
    "- **Director**: Director of the Movie\n",
    "- **Cast**: Actors involved in the Movie/TV show\n",
    "- **Country**: Country where the Movie/TV show was produced\n",
    "- **Date added**: Date it was added to Netflix\n",
    "- **Year released**: Actual Release year of the Movie/TV show\n",
    "- **Rating**: TV Rating of Movie/TV show\n",
    "- **Duration**: Total Duration - in\n",
    "\n",
    "## Interesting Task Ideas\n",
    "\n",
    "**Note**: These ideas below are taken directly from the [Netflix Moves and TV Shows](https://www.kaggle.com/shivamb/netflix-shows) dataset description.\n",
    "\n",
    "1. Understanding what content is available in different countries\n",
    "2. Identifying similar content by matching text-based features\n",
    "3. Network analysis of Actors / Directors and find interesting insights\n",
    "4. Does Netflix has more focus on TV Shows than movies in recent years."
   ]
  },
  {
   "cell_type": "markdown",
   "metadata": {},
   "source": [
    "## Let's read in the data\n",
    "\n",
    "Let's load the dataset into this instance by doing the following:"
   ]
  },
  {
   "cell_type": "code",
   "execution_count": null,
   "metadata": {},
   "outputs": [],
   "source": [
    "# here, let's get the right dataset, ds is short for dataset\n",
    "url = os.path.abspath(\"../datasets/netflix_titles.csv\")\n",
    "\n",
    "# here, df is short for dataset\n",
    "df = pd.read_csv(url)"
   ]
  },
  {
   "cell_type": "code",
   "execution_count": null,
   "metadata": {},
   "outputs": [],
   "source": [
    "df.head()"
   ]
  },
  {
   "cell_type": "markdown",
   "metadata": {},
   "source": [
    "## Good Luck!"
   ]
  },
  {
   "cell_type": "code",
   "execution_count": null,
   "metadata": {},
   "outputs": [],
   "source": []
  }
 ],
 "metadata": {
  "interpreter": {
   "hash": "b0fa6594d8f4cbf19f97940f81e996739fb7646882a419484c72d19e05852a7e"
  },
  "kernelspec": {
   "display_name": "Python 3 (ipykernel)",
   "language": "python",
   "name": "python3"
  },
  "language_info": {
   "codemirror_mode": {
    "name": "ipython",
    "version": 3
   },
   "file_extension": ".py",
   "mimetype": "text/x-python",
   "name": "python",
   "nbconvert_exporter": "python",
   "pygments_lexer": "ipython3",
   "version": "3.9.9"
  }
 },
 "nbformat": 4,
 "nbformat_minor": 2
}
